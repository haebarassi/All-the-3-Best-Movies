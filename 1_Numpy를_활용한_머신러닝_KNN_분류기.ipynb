{
  "nbformat": 4,
  "nbformat_minor": 0,
  "metadata": {
    "colab": {
      "name": "1_Numpy를 활용한 머신러닝 - KNN 분류기.ipynb",
      "provenance": [],
      "collapsed_sections": [],
      "authorship_tag": "ABX9TyNWXkma+WWjzxzN1dCcdrfN",
      "include_colab_link": true
    },
    "kernelspec": {
      "name": "python3",
      "display_name": "Python 3"
    },
    "language_info": {
      "name": "python"
    }
  },
  "cells": [
    {
      "cell_type": "markdown",
      "metadata": {
        "id": "view-in-github",
        "colab_type": "text"
      },
      "source": [
        "<a href=\"https://colab.research.google.com/github/hhongsii/All-the-3-Best-Movies/blob/master/1_Numpy%EB%A5%BC_%ED%99%9C%EC%9A%A9%ED%95%9C_%EB%A8%B8%EC%8B%A0%EB%9F%AC%EB%8B%9D_KNN_%EB%B6%84%EB%A5%98%EA%B8%B0.ipynb\" target=\"_parent\"><img src=\"https://colab.research.google.com/assets/colab-badge.svg\" alt=\"Open In Colab\"/></a>"
      ]
    },
    {
      "cell_type": "code",
      "metadata": {
        "id": "-jPgB6p1XWH1"
      },
      "source": [
        "import numpy as np\n",
        "import matplotlib.pyplot as plt"
      ],
      "execution_count": 2,
      "outputs": []
    },
    {
      "cell_type": "code",
      "metadata": {
        "id": "PbWXWGugWdIr"
      },
      "source": [
        "dataset = np.array([\n",
        "                    [3,104],\n",
        "                    [2,100],\n",
        "                    [1,81],\n",
        "                    [101,10],\n",
        "                    [99,5],\n",
        "                    [98,2]\n",
        "])\n",
        "\n",
        "labels = (['Romance','Romance','Romance','Action','Action','Action'])\n",
        "\n",
        "inX = np.array([25,87]) # 알고자하는 점"
      ],
      "execution_count": 79,
      "outputs": []
    },
    {
      "cell_type": "code",
      "metadata": {
        "colab": {
          "base_uri": "https://localhost:8080/",
          "height": 295
        },
        "id": "Sx3c68b6X-g8",
        "outputId": "1e25c328-7092-4615-a488-23e59d6979ed"
      },
      "source": [
        "plt.title(\"The Category of Movie\")\n",
        "plt.scatter(dataset[:3,0],dataset[:3,1],label='Romance',\n",
        "            c='g')\n",
        "plt.scatter(dataset[3:,0],dataset[3:,1],label='Action',\n",
        "            c='r')\n",
        "plt.scatter(25,87,label=\"?\",\n",
        "            c='b')\n",
        "\n",
        "\n",
        "plt.xlabel('The number of Kick')\n",
        "plt.ylabel('The number of Kiss')\n",
        "plt.legend()\n",
        "plt.show()\n"
      ],
      "execution_count": 80,
      "outputs": [
        {
          "output_type": "display_data",
          "data": {
            "image/png": "[encoded data removed]",
            "text/plain": [
              "<Figure size 432x288 with 1 Axes>"
            ]
          },
          "metadata": {
            "needs_background": "light"
          }
        }
      ]
    },
    {
      "cell_type": "markdown",
      "metadata": {
        "id": "vsszM5ahZHv6"
      },
      "source": [
        "KNN\n",
        "- 자기의 값과 비슷한 K개 데이터를 뽑아오고 \n",
        "다수결을 통해 새로운 데이터 분류 항목 결정\n",
        "\n",
        "5. 해당 항목 반환"
      ]
    },
    {
      "cell_type": "markdown",
      "metadata": {
        "id": "xQHrduHBpPqV"
      },
      "source": [
        "1. 우리가 분류항목을 알고자 하는 점(inX)와 알고 있는 점들(dataset)과의 모든 점 거리를 계산"
      ]
    },
    {
      "cell_type": "code",
      "metadata": {
        "colab": {
          "base_uri": "https://localhost:8080/"
        },
        "id": "5MFYNkYfYAY5",
        "outputId": "fe6e9ec1-5d29-4f05-8f63-ce8a2b905b9b"
      },
      "source": [
        "# broadcasting을 이용하면 보다 간결하고 빠른 코드를 작성할 수 있습니다.\n",
        "## ⚠️⚠️⚠️ 반복문, 순회문 사용하지 않고 numpy broadcasting 을 사용해 구현하세요. ⚠️⚠️⚠️\n",
        "\n",
        "# 위 정의한 inX와 그 이외의 모든 점들과의 거리를 계산합니다. \n",
        "# 거리는 위 정의한 l2 distance 을 사용합니다. \n",
        "dists = (dataset - inX)*(dataset - inX)\n",
        "# print(dists)\n",
        "new_dists = dists[:,0] + dists[:,1]\n",
        "# print(new_dists)\n",
        "\n",
        "dists = np.sqrt(new_dists)\n",
        "print(dists)\n"
      ],
      "execution_count": 81,
      "outputs": [
        {
          "output_type": "stream",
          "name": "stdout",
          "text": [
            "[ 27.80287755  26.41968963  24.73863375 108.1896483  110.45361017\n",
            " 112.04463396]\n"
          ]
        }
      ]
    },
    {
      "cell_type": "markdown",
      "metadata": {
        "id": "lTl6ukPopSjj"
      },
      "source": [
        "2. 오름 차순으로 거리의 길이를 정렬"
      ]
    },
    {
      "cell_type": "code",
      "metadata": {
        "colab": {
          "base_uri": "https://localhost:8080/"
        },
        "id": "f3hJpdnxbJGu",
        "outputId": "0d050e3f-8333-48ea-aedd-1a435f0bf340"
      },
      "source": [
        "# 오름차순으로 정렬된 인덱스 순을 반환\n",
        "# numpy 을 사용해 위 생성한 거리(dists) 에서 거리가 가장 짧은 데이터의 index을 정렬(sort) 합니다. \n",
        "sorted_index = dists.argsort()\n",
        "sorted_index\n"
      ],
      "execution_count": 82,
      "outputs": [
        {
          "output_type": "execute_result",
          "data": {
            "text/plain": [
              "array([2, 1, 0, 3, 4, 5])"
            ]
          },
          "metadata": {},
          "execution_count": 82
        }
      ]
    },
    {
      "cell_type": "markdown",
      "metadata": {
        "id": "_iO3y1hDsEnP"
      },
      "source": [
        "3. inX와의 거리가 가장 짧은 아이템 추출"
      ]
    },
    {
      "cell_type": "code",
      "metadata": {
        "colab": {
          "base_uri": "https://localhost:8080/"
        },
        "id": "d_GtPL86r_Zi",
        "outputId": "787fae7c-f66a-4379-b01b-3e822b739d7e"
      },
      "source": [
        "# 위 생성한 sorted index 을 사용해 거리가 가장 짧은 순서대로 labels 을 나열합니다. \n",
        "sorted_labels = np.array([])\n",
        "\n",
        "for index in sorted_index: \n",
        "  sorted_labels = np.append(sorted_labels,labels[index])\n",
        "\n",
        "print(sorted_labels)\n",
        "# 위 생성한 sorted_labels 을 활용해 거리가 가장 가까운 k=4 개의 데이터를 가져옵니다. \n",
        "K_nearest_labels = sorted_labels[0:4]"
      ],
      "execution_count": 87,
      "outputs": [
        {
          "output_type": "stream",
          "name": "stdout",
          "text": [
            "['Romance' 'Romance' 'Romance' 'Action' 'Action' 'Action']\n"
          ]
        }
      ]
    },
    {
      "cell_type": "code",
      "metadata": {
        "colab": {
          "base_uri": "https://localhost:8080/"
        },
        "id": "Y_hHo6q_wGLA",
        "outputId": "6c8f1065-f85e-4a85-e3c0-a7379dfb90b8"
      },
      "source": [
        "K_nearest_labels"
      ],
      "execution_count": 88,
      "outputs": [
        {
          "output_type": "execute_result",
          "data": {
            "text/plain": [
              "array(['Romance', 'Romance', 'Romance', 'Action'], dtype='<U32')"
            ]
          },
          "metadata": {},
          "execution_count": 88
        }
      ]
    },
    {
      "cell_type": "markdown",
      "metadata": {
        "id": "amfFZ6Mb_mVU"
      },
      "source": [
        "4. K개의 아이템에서 가장 많은 분류 항목 찾기"
      ]
    },
    {
      "cell_type": "code",
      "metadata": {
        "colab": {
          "base_uri": "https://localhost:8080/"
        },
        "id": "RvB9yII8-q5q",
        "outputId": "13a7664f-662e-420b-83f4-e5b1e9364081"
      },
      "source": [
        "# K 개의 아이템에서 각 항목이 몇번씩 등작했는지 count합니다. \n",
        "count_dict = {}\n",
        "Rnum = 0\n",
        "Anum = 0\n",
        "for label in K_nearest_labels:\n",
        "  if label == 'Romance':\n",
        "    Rnum = Rnum+1\n",
        "    count_dict[label] = Rnum\n",
        "  elif label == 'Action':\n",
        "    Anum = Anum+1\n",
        "    count_dict[label] = Anum\n",
        "count_dict"
      ],
      "execution_count": 95,
      "outputs": [
        {
          "output_type": "execute_result",
          "data": {
            "text/plain": [
              "{'Action': 1, 'Romance': 3}"
            ]
          },
          "metadata": {},
          "execution_count": 95
        }
      ]
    },
    {
      "cell_type": "code",
      "metadata": {
        "colab": {
          "base_uri": "https://localhost:8080/",
          "height": 35
        },
        "id": "ISSqVjwk_50g",
        "outputId": "63a46e50-2689-41eb-bd80-0ffadb9b4596"
      },
      "source": [
        "# 제일 많이 등장한 횟수를 찾아 반환합니다. \n",
        "# 해당 예제에서는 Romance 을 반환해야 합니다. \n",
        "# np.unique 함수를 사용해야 합니다. \n",
        "_labels, count_labels = np.unique(K_nearest_labels, return_counts = True)\n",
        "# print(_labels)\n",
        "# print(count_labels)\n",
        "\n",
        "_labels[count_labels.argmax()]"
      ],
      "execution_count": 103,
      "outputs": [
        {
          "output_type": "execute_result",
          "data": {
            "application/vnd.google.colaboratory.intrinsic+json": {
              "type": "string"
            },
            "text/plain": [
              "'Romance'"
            ]
          },
          "metadata": {},
          "execution_count": 103
        }
      ]
    },
    {
      "cell_type": "markdown",
      "metadata": {
        "id": "2xwR8IJ4GfgZ"
      },
      "source": [
        "## 전체 Numpy Code 작성하기"
      ]
    },
    {
      "cell_type": "code",
      "metadata": {
        "id": "Mbg3y2DBFcKA"
      },
      "source": [
        "def classify_knn(inX, dataset, labels, K):\n",
        "    # dataset의 각 점들과 x와의 거리 계산\n",
        "    dists = (dataset - inX)*(dataset - inX)\n",
        "    new_dists = dists[:,0] + dists[:,1]\n",
        "    dists = np.sqrt(new_dists)\n",
        "\n",
        "    #오름차순으로 정렬\n",
        "    sorted_index = dists.argsort()\n",
        "\n",
        "    # 위 생성한 sorted index 을 사용해 거리가 가장 짧은 순서대로 labels 나열 \n",
        "    sorted_labels = np.array([])\n",
        "    for index in sorted_index: \n",
        "      sorted_labels = np.append(sorted_labels,labels[index])\n",
        "    \n",
        "    # 거리가 가장 짧은 K 개의 아이템 추출\n",
        "    K_nearest_labels = sorted_labels[0:K]\n",
        "\n",
        "    # 가장 많은 분류 항목 찾기\n",
        "    _labels, count_labels = np.unique(K_nearest_labels, return_counts = True)\n",
        "    _labels[count_labels.argmax()]\n",
        "\n",
        "    return _labels[count_labels.argmax()]"
      ],
      "execution_count": 104,
      "outputs": []
    },
    {
      "cell_type": "code",
      "metadata": {
        "colab": {
          "base_uri": "https://localhost:8080/",
          "height": 35
        },
        "id": "bPWrV28-H6hh",
        "outputId": "5d9dbf74-aed6-49e3-ce1a-a92c803c151b"
      },
      "source": [
        "# 킥 횟수가 52번, 키스 횟수가 10번인 작품\n",
        "classify_knn([52, 10], dataset, labels, 4)"
      ],
      "execution_count": 105,
      "outputs": [
        {
          "output_type": "execute_result",
          "data": {
            "application/vnd.google.colaboratory.intrinsic+json": {
              "type": "string"
            },
            "text/plain": [
              "'Action'"
            ]
          },
          "metadata": {},
          "execution_count": 105
        }
      ]
    },
    {
      "cell_type": "code",
      "metadata": {
        "colab": {
          "base_uri": "https://localhost:8080/",
          "height": 35
        },
        "id": "xd8pyO92H-Ai",
        "outputId": "ab45dda0-fab3-4236-bf0a-965f38bb992d"
      },
      "source": [
        "# 킥 횟수가 19번, 키스 횟수가 72번인 작품\n",
        "classify_knn([19, 72], dataset, labels, 4)"
      ],
      "execution_count": 106,
      "outputs": [
        {
          "output_type": "execute_result",
          "data": {
            "application/vnd.google.colaboratory.intrinsic+json": {
              "type": "string"
            },
            "text/plain": [
              "'Romance'"
            ]
          },
          "metadata": {},
          "execution_count": 106
        }
      ]
    }
  ]
}